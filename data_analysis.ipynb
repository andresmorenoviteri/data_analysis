{
 "cells": [
  {
   "cell_type": "code",
   "execution_count": null,
   "id": "2ba8dae9",
   "metadata": {},
   "outputs": [],
   "source": [
    "import matplotlib.pyplot as plt\n",
    "import seaborn as sns\n",
    "import pandas as pd\n",
    "import numpy as np"
   ]
  },
  {
   "cell_type": "code",
   "execution_count": null,
   "id": "31e7b0b6",
   "metadata": {},
   "outputs": [],
   "source": [
    "data = \"https://raw.githubusercontent.com/andresmorenoviteri/data_analysis/blob/main/insurance_data.csv\"\n",
    "#data = \"https://github.com/andresmorenoviteri/data_analysis/blob/main/insurance_data.csv\""
   ]
  }
 ],
 "metadata": {
  "kernelspec": {
   "display_name": "phot_venv",
   "language": "python",
   "name": "python3"
  },
  "language_info": {
   "name": "python",
   "version": "3.8.2"
  }
 },
 "nbformat": 4,
 "nbformat_minor": 5
}
