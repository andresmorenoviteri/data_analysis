{
 "cells": [
  {
   "cell_type": "code",
   "execution_count": null,
   "id": "2ba8dae9",
   "metadata": {},
   "outputs": [],
   "source": [
    "import matplotlib.pyplot as plt\n",
    "import seaborn as sns\n",
    "import pandas as pd\n",
    "import numpy as np"
   ]
  },
  {
   "cell_type": "code",
   "execution_count": null,
   "id": "31e7b0b6",
   "metadata": {},
   "outputs": [],
   "source": [
    "data_path = \"https://raw.githubusercontent.com/andresmorenoviteri/data_analysis/main/insurance_data.xlsx\""
   ]
  },
  {
   "cell_type": "code",
   "execution_count": null,
   "id": "7638ad10",
   "metadata": {},
   "outputs": [],
   "source": [
    "df = pd.read_excel(data_path)\n",
    "df.head()"
   ]
  },
  {
   "cell_type": "code",
   "execution_count": null,
   "id": "e4f6cc62",
   "metadata": {},
   "outputs": [],
   "source": [
    "# Check length of dataset\n",
    "len(___)"
   ]
  },
  {
   "cell_type": "markdown",
   "id": "3e4ef9cd",
   "metadata": {},
   "source": [
    "<h4>How to choose the right visualization method?</h4>\n",
    "<p>When visualizing individual variables, it is important to first understand what type of variable you are dealing with. This will help us find the right visualization method for that variable.</p>"
   ]
  },
  {
   "cell_type": "code",
   "execution_count": null,
   "id": "4cd196dc",
   "metadata": {},
   "outputs": [],
   "source": [
    "# Check types of data\n",
    "df___"
   ]
  },
  {
   "cell_type": "markdown",
   "id": "bbb82d82",
   "metadata": {},
   "source": [
    "### **Conclusions:**"
   ]
  },
  {
   "cell_type": "markdown",
   "id": "aee2576b",
   "metadata": {},
   "source": []
  },
  {
   "cell_type": "markdown",
   "id": "f5586337",
   "metadata": {},
   "source": [
    "### Check one column at a time"
   ]
  },
  {
   "cell_type": "code",
   "execution_count": null,
   "id": "938a0d68",
   "metadata": {},
   "outputs": [],
   "source": [
    "types_of_genders = ___\n",
    "types_of_genders"
   ]
  },
  {
   "cell_type": "code",
   "execution_count": null,
   "id": "32b63ba2",
   "metadata": {},
   "outputs": [],
   "source": [
    "# find rows with empty cells\n",
    "dataset[dataset.isnull().any(axis=1)] # create dataframe of same shape, with 'True' if null, 'False' if not, axis=1 filters by rows for those rows that have a 'True' value"
   ]
  },
  {
   "cell_type": "code",
   "execution_count": null,
   "id": "8877837d",
   "metadata": {},
   "outputs": [],
   "source": [
    "# Find rows that are not numeric\n",
    "non_numeric = df[~df['Preise'].apply(lambda x: str(x).replace('.', '', 1).isdigit())]\n",
    "non_numeric"
   ]
  },
  {
   "cell_type": "markdown",
   "id": "ddf9d7e1",
   "metadata": {},
   "source": [
    "## **1. Data Preprocessing**"
   ]
  },
  {
   "cell_type": "markdown",
   "id": "eb0cd1f2",
   "metadata": {},
   "source": [
    "### Replace 'weblich with 'weiblich'"
   ]
  },
  {
   "cell_type": "code",
   "execution_count": null,
   "id": "68a88bd9",
   "metadata": {},
   "outputs": [],
   "source": [
    "df[___] = df[___].replace(___, ___)"
   ]
  },
  {
   "cell_type": "markdown",
   "id": "ccc8c973",
   "metadata": {},
   "source": [
    "### Replace 'NaN' with mean or mode"
   ]
  },
  {
   "cell_type": "code",
   "execution_count": null,
   "id": "0b24b17e",
   "metadata": {},
   "outputs": [],
   "source": [
    "# on Raucher, replace 'NaN' with mode\n",
    "df[___].fillna(df[___].___()[0])\n",
    "\n",
    "\n",
    "# on Region, replace 'NaN' with mode\n",
    "df[___].fillna(df[___].___()[0])\n",
    "\n",
    "\n",
    "# on Preise, replace 'NaN' or non values with average\n",
    "df[___] = df[___].replace(___, np.nan)\n",
    "df[___] = df[___].astype('float64')\n",
    "df[___].fillna(df[___].mean())"
   ]
  },
  {
   "cell_type": "markdown",
   "id": "d1f5e7c6",
   "metadata": {},
   "source": [
    "### Check what the dataframes looks like"
   ]
  },
  {
   "cell_type": "code",
   "execution_count": null,
   "id": "45dc88f1",
   "metadata": {},
   "outputs": [],
   "source": [
    "df.info()"
   ]
  },
  {
   "cell_type": "code",
   "execution_count": null,
   "id": "b7536caa",
   "metadata": {},
   "outputs": [],
   "source": [
    "df.head()"
   ]
  },
  {
   "cell_type": "markdown",
   "id": "49d8df32",
   "metadata": {},
   "source": [
    "## **2. Descriptive Statistical Analysis**"
   ]
  },
  {
   "cell_type": "markdown",
   "id": "c0c1b471",
   "metadata": {},
   "source": [
    "Let's first take a look at the variables by utilizing a description method.\n",
    "\n",
    "The **describe** function automatically computes basic statistics for all continuous variables. Any NaN values are automatically skipped in these statistics.\n",
    "\n",
    "This will show:\n",
    "* the count of that variable\n",
    "* the mean\n",
    "* the standard deviation (std) \n",
    "* the minimum value\n",
    "* the IQR (Interquartile Range: 25%, 50% and 75%)\n",
    "* the maximum value"
   ]
  },
  {
   "cell_type": "code",
   "execution_count": null,
   "id": "56ea08b2",
   "metadata": {},
   "outputs": [],
   "source": [
    "# statistics\n",
    "df.___"
   ]
  },
  {
   "cell_type": "markdown",
   "id": "b632d273",
   "metadata": {},
   "source": [
    "Apply the method \"describe\" on the variables of type 'object':"
   ]
  },
  {
   "cell_type": "code",
   "execution_count": null,
   "id": "dc6f2574",
   "metadata": {},
   "outputs": [],
   "source": [
    "df.describe(include=[___])"
   ]
  },
  {
   "cell_type": "code",
   "execution_count": null,
   "id": "83a82e7e",
   "metadata": {},
   "outputs": [],
   "source": [
    "# check correlation between features\n",
    "plt.figure(figsize=(8,6))\n",
    "sns.heatmap(df.corr(numeric_only=True), annot=True, cmap='coolwarm')\n",
    "plt.show()"
   ]
  },
  {
   "cell_type": "code",
   "execution_count": null,
   "id": "ca68ea91",
   "metadata": {},
   "outputs": [],
   "source": [
    "# number smokers and non smokers there are\n",
    "smokers = df[___][df[___] == ___].count()\n",
    "non_smokers = ___\n",
    "\n",
    "print(f\"smokers: {___}\")\n",
    "print(f\"non-smokers: {___}\")"
   ]
  },
  {
   "cell_type": "code",
   "execution_count": null,
   "id": "568d6d10",
   "metadata": {},
   "outputs": [],
   "source": [
    "# Check how each column affects the price\n",
    "\n",
    "# Geschlecht \n",
    "for geschlecht in df[___].unique():\n",
    "    print(f\"{geschlecht} durschnittpreis: {round(df[___][df[___]==___].mean(), 2)}\")\n",
    "\n",
    "\n",
    "# Kinder\n",
    "for zahl in df[___].unique():\n",
    "    print(f\"{zahl} Kinder durschnittpreis : {round(___, 2)}\")\n",
    "print('\\n')\n",
    "\n",
    "# Raucher\n",
    "for raucher in df[___].unique():\n",
    "    print(f\"raucher {raucher} durschnittpreis: {round(___, 2)}\")\n",
    "print('\\n')\n",
    "\n",
    "# Region\n",
    "for region in df[___].unique():\n",
    "    print(f\"{region} durschnittpreis: {round(___, 2)}\")\n"
   ]
  },
  {
   "cell_type": "code",
   "execution_count": null,
   "id": "5a8404ad",
   "metadata": {},
   "outputs": [],
   "source": [
    "# Histograms\n",
    "df[numeric_features].hist(bins=15, figsize=(10,8))\n",
    "plt.show()"
   ]
  },
  {
   "cell_type": "markdown",
   "id": "2d8effff",
   "metadata": {},
   "source": [
    "### **Continuous Numerical Variables**\n",
    "\n",
    "Continuous numerical variables are variables that may contain any value within some range. They can be of type \"int64\" or \"float64\". A great way to visualize these variables is by using scatterplots with fitted lines.\n",
    "\n",
    "In order to start understanding the (linear) relationship between an individual variable and the price, we can use \"regplot\" which plots the scatterplot plus the fitted regression line for the data. This will be useful later on for visualizing the fit of the simple linear regression model as well."
   ]
  },
  {
   "cell_type": "code",
   "execution_count": null,
   "id": "245a494a",
   "metadata": {},
   "outputs": [],
   "source": [
    "# Alter vs Preis\n",
    "sns.regplot(data=___, x=___, y=___)\n",
    "plt.show()\n",
    "\n",
    "\n",
    "# BMI vs Preis\n",
    "sns.regplot(data=___, x=___, y=___)\n",
    "plt.show()"
   ]
  },
  {
   "cell_type": "markdown",
   "id": "58c20323",
   "metadata": {},
   "source": [
    "### **Categorical Variables**\n",
    "\n",
    "These are variables that describe a 'characteristic' of a data unit, and are selected from a small group of categories. The categorical variables can have the type \"object\" or \"int64\". A good way to visualize categorical variables is by using boxplots."
   ]
  },
  {
   "cell_type": "code",
   "execution_count": null,
   "id": "0deb1200",
   "metadata": {},
   "outputs": [],
   "source": [
    "# Boxplot for categorical features\n",
    "# Raucher\n",
    "sns.boxplot(data=___, x=___, y=___)\n",
    "plt.show()\n",
    "# Region\n",
    "sns.boxplot(data=___, x=___, y=___)\n",
    "plt.show()"
   ]
  },
  {
   "cell_type": "code",
   "execution_count": null,
   "id": "04ef1e3d",
   "metadata": {},
   "outputs": [],
   "source": []
  }
 ],
 "metadata": {
  "kernelspec": {
   "display_name": "phot_venv",
   "language": "python",
   "name": "python3"
  },
  "language_info": {
   "name": "python",
   "version": "3.8.2"
  }
 },
 "nbformat": 4,
 "nbformat_minor": 5
}
