{
 "cells": [
  {
   "cell_type": "code",
   "execution_count": null,
   "id": "2ba8dae9",
   "metadata": {},
   "outputs": [],
   "source": [
    "import matplotlib.pyplot as plt\n",
    "import seaborn as sns\n",
    "import pandas as pd\n",
    "import numpy as np"
   ]
  },
  {
   "cell_type": "code",
   "execution_count": null,
   "id": "31e7b0b6",
   "metadata": {},
   "outputs": [],
   "source": [
    "data_path = \"https://raw.githubusercontent.com/andresmorenoviteri/data_analysis/main/insurance_data.xlsx\""
   ]
  },
  {
   "cell_type": "code",
   "execution_count": null,
   "id": "7638ad10",
   "metadata": {},
   "outputs": [],
   "source": [
    "dataset = pd.read_excel(data_path)\n",
    "dataset.head()"
   ]
  },
  {
   "cell_type": "code",
   "execution_count": null,
   "id": "e4f6cc62",
   "metadata": {},
   "outputs": [],
   "source": [
    "# Check length of dataset\n",
    "len(___)"
   ]
  },
  {
   "cell_type": "code",
   "execution_count": null,
   "id": "4cd196dc",
   "metadata": {},
   "outputs": [],
   "source": [
    "# Check types of data\n",
    "dataset___"
   ]
  },
  {
   "cell_type": "markdown",
   "id": "bbb82d82",
   "metadata": {},
   "source": [
    "### **Conclusions:**"
   ]
  },
  {
   "cell_type": "markdown",
   "id": "aee2576b",
   "metadata": {},
   "source": []
  },
  {
   "cell_type": "markdown",
   "id": "f5586337",
   "metadata": {},
   "source": [
    "### Check one column at a time"
   ]
  },
  {
   "cell_type": "code",
   "execution_count": null,
   "id": "938a0d68",
   "metadata": {},
   "outputs": [],
   "source": [
    "types_of_genders = ___"
   ]
  },
  {
   "cell_type": "code",
   "execution_count": null,
   "id": "32b63ba2",
   "metadata": {},
   "outputs": [],
   "source": [
    "# find rows with empty cells\n",
    "dataset[dataset.isnull().any(axis=1)]"
   ]
  },
  {
   "cell_type": "code",
   "execution_count": null,
   "id": "8877837d",
   "metadata": {},
   "outputs": [],
   "source": [
    "# Find rows that are not numeric\n",
    "non_numeric = dataset[~dataset['Preise'].apply(lambda x: str(x).replace('.', '', 1).isdigit())]\n",
    "non_numeric"
   ]
  },
  {
   "cell_type": "code",
   "execution_count": null,
   "id": "5716ce2f",
   "metadata": {},
   "outputs": [],
   "source": []
  },
  {
   "cell_type": "markdown",
   "id": "ddf9d7e1",
   "metadata": {},
   "source": [
    "## **Data Preprocessing**"
   ]
  },
  {
   "cell_type": "markdown",
   "id": "eb0cd1f2",
   "metadata": {},
   "source": [
    "### Replace 'weblich with 'weiblich'"
   ]
  },
  {
   "cell_type": "code",
   "execution_count": null,
   "id": "68a88bd9",
   "metadata": {},
   "outputs": [],
   "source": [
    "dataset[___] = dataset[___].replace(___, ___)"
   ]
  },
  {
   "cell_type": "markdown",
   "id": "ccc8c973",
   "metadata": {},
   "source": [
    "### Replace 'NaN' with mean or mode"
   ]
  },
  {
   "cell_type": "code",
   "execution_count": null,
   "id": "0b24b17e",
   "metadata": {},
   "outputs": [],
   "source": [
    "# on Raucher, replace 'NaN' with mode\n",
    "dataset[___].fillna(dataset[___].___()[0], inplace=True)\n",
    "\n",
    "\n",
    "# on region, replace 'NaN' with mode\n",
    "dataset[___].fillna(dataset[___].___()[0], inplace=True)\n",
    "\n",
    "\n",
    "# on price, replace 'NaN' or non values with average\n",
    "dataset[___] = dataset[___].replace(___, np.nan)\n",
    "dataset[___] = dataset[___].astype('float64')\n",
    "dataset[___].fillna(dataset[___].mean(), inplace=True)\n",
    "\n"
   ]
  },
  {
   "cell_type": "markdown",
   "id": "d1f5e7c6",
   "metadata": {},
   "source": [
    "### Check what the dataframes looks like"
   ]
  },
  {
   "cell_type": "code",
   "execution_count": null,
   "id": "45dc88f1",
   "metadata": {},
   "outputs": [],
   "source": [
    "dataset.info()"
   ]
  },
  {
   "cell_type": "markdown",
   "id": "49d8df32",
   "metadata": {},
   "source": [
    "## **Dataframe Statistics**"
   ]
  },
  {
   "cell_type": "code",
   "execution_count": null,
   "id": "56ea08b2",
   "metadata": {},
   "outputs": [],
   "source": [
    "# Durchschnitten\n"
   ]
  },
  {
   "cell_type": "code",
   "execution_count": null,
   "id": "83a82e7e",
   "metadata": {},
   "outputs": [],
   "source": [
    "# check correlation between variables\n",
    "dataset.___"
   ]
  },
  {
   "cell_type": "code",
   "execution_count": null,
   "id": "ca68ea91",
   "metadata": {},
   "outputs": [],
   "source": [
    "# number smokers and non smokers there are\n",
    "smokers = dataset[___][dataset[___] == ___].count()\n",
    "non_smokers = ___\n",
    "\n",
    "print(f\"smokers: {___}\")\n",
    "print(f\"non-smokers: {___}\")"
   ]
  },
  {
   "cell_type": "code",
   "execution_count": null,
   "id": "568d6d10",
   "metadata": {},
   "outputs": [],
   "source": [
    "# Check how each column affects the price\n",
    "\n",
    "\n",
    "# Alter \n",
    "sns.scatterplot(data=___, x=___, y=___)\n",
    "plt.show()\n",
    "\n",
    "\n",
    "# BMI\n",
    "sns.scatterplot(data=___, x=___, y=___)\n",
    "plt.show()\n",
    "\n",
    "\n",
    "# Geschlecht \n",
    "for geschlecht in dataset[___].unique():\n",
    "    print(f\"{geschlecht} durschnitt preis: {round(dataset[___][dataset[___]==___].mean(), 2)}\")\n",
    "\n",
    "\n",
    "# Kinder\n",
    "for zahl in dataset[___].unique():\n",
    "    print(f\"{zahl} children average price: {round(___, 2)}\")\n",
    "print('\\n')\n",
    "\n",
    "# Raucher\n",
    "for raucher in dataset[___].unique():\n",
    "    print(f\"raucher {raucher} durschnitt preis: {round(___, 2)}\")\n",
    "print('\\n')\n",
    "\n",
    "# Region\n",
    "for region in dataset[___].unique():\n",
    "    print(f\"{region} durschnitt preis: {round(___, 2)}\")\n"
   ]
  }
 ],
 "metadata": {
  "kernelspec": {
   "display_name": "phot_venv",
   "language": "python",
   "name": "python3"
  },
  "language_info": {
   "name": "python",
   "version": "3.8.2"
  }
 },
 "nbformat": 4,
 "nbformat_minor": 5
}
